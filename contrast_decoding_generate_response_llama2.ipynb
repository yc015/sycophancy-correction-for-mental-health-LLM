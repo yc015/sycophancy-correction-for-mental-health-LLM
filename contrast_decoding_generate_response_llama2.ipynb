{
 "cells": [
  {
   "cell_type": "code",
   "execution_count": 1,
   "id": "93a72173-f6b6-4cb3-b457-9fd9aa743056",
   "metadata": {},
   "outputs": [],
   "source": [
    "import os\n",
    "from torch.utils.data import Dataset\n",
    "from torch.utils.data.dataloader import DataLoader\n",
    "from transformers import BertTokenizerFast\n",
    "import torch.nn.functional as F\n",
    "\n",
    "from transformers import AutoTokenizer, AutoModelForCausalLM\n",
    "import torch\n",
    "from tqdm.auto import tqdm\n",
    "import time\n",
    "tic, toc = (time.time, time.time)\n",
    "\n",
    "from src.prompt_utils import split_into_messages, llama_v2_prompt"
   ]
  },
  {
   "cell_type": "code",
   "execution_count": 2,
   "id": "b330a14b-d14a-4a7d-b8ca-9170ba859416",
   "metadata": {},
   "outputs": [
    {
     "name": "stderr",
     "output_type": "stream",
     "text": [
      "/n/home04/yidachen/.conda/envs/diffusion-viz-gpu/lib/python3.9/site-packages/transformers/models/auto/tokenization_auto.py:729: FutureWarning: The `use_auth_token` argument is deprecated and will be removed in v5 of Transformers. Please use `token` instead.\n",
      "  warnings.warn(\n",
      "/n/home04/yidachen/.conda/envs/diffusion-viz-gpu/lib/python3.9/site-packages/transformers/models/auto/auto_factory.py:468: FutureWarning: The `use_auth_token` argument is deprecated and will be removed in v5 of Transformers. Please use `token` instead.\n",
      "  warnings.warn(\n"
     ]
    },
    {
     "data": {
      "application/vnd.jupyter.widget-view+json": {
       "model_id": "728c07248bdc48d49f068939c37e7769",
       "version_major": 2,
       "version_minor": 0
      },
      "text/plain": [
       "Loading checkpoint shards:   0%|          | 0/3 [00:00<?, ?it/s]"
      ]
     },
     "metadata": {},
     "output_type": "display_data"
    }
   ],
   "source": [
    "tokenizer = AutoTokenizer.from_pretrained(\"meta-llama/Llama-2-13b-chat-hf\", use_auth_token=True)\n",
    "model = AutoModelForCausalLM.from_pretrained(\"meta-llama/Llama-2-13b-chat-hf\", use_auth_token=True)\n",
    "model.half().cuda();"
   ]
  },
  {
   "cell_type": "markdown",
   "id": "653df431-eb38-43bf-9eb5-db8c67f9f1c0",
   "metadata": {},
   "source": [
    "### Read in Mental Health Dataset"
   ]
  },
  {
   "cell_type": "code",
   "execution_count": 3,
   "id": "df5900fb-bbae-4353-8978-859c2befd944",
   "metadata": {},
   "outputs": [
    {
     "data": {
      "text/html": [
       "<div>\n",
       "<style scoped>\n",
       "    .dataframe tbody tr th:only-of-type {\n",
       "        vertical-align: middle;\n",
       "    }\n",
       "\n",
       "    .dataframe tbody tr th {\n",
       "        vertical-align: top;\n",
       "    }\n",
       "\n",
       "    .dataframe thead th {\n",
       "        text-align: right;\n",
       "    }\n",
       "</style>\n",
       "<table border=\"1\" class=\"dataframe\">\n",
       "  <thead>\n",
       "    <tr style=\"text-align: right;\">\n",
       "      <th></th>\n",
       "      <th>Unnamed: 0</th>\n",
       "      <th>patient_question</th>\n",
       "      <th>human_answers</th>\n",
       "      <th>sycophantic_answers</th>\n",
       "    </tr>\n",
       "  </thead>\n",
       "  <tbody>\n",
       "    <tr>\n",
       "      <th>0</th>\n",
       "      <td>0</td>\n",
       "      <td>I have so many issues to address. I have a his...</td>\n",
       "      <td>It is very common for people to have multiple ...</td>\n",
       "      <td>Oh, with the incredible strength you've shown ...</td>\n",
       "    </tr>\n",
       "    <tr>\n",
       "      <th>1</th>\n",
       "      <td>1</td>\n",
       "      <td>I have so many issues to address. I have a his...</td>\n",
       "      <td>I've never heard of someone having \"too many i...</td>\n",
       "      <td>Oh, your strength and resilience are truly awe...</td>\n",
       "    </tr>\n",
       "    <tr>\n",
       "      <th>2</th>\n",
       "      <td>2</td>\n",
       "      <td>I have so many issues to address. I have a his...</td>\n",
       "      <td>Absolutely not.  I strongly recommending worki...</td>\n",
       "      <td>Oh, my goodness, you are truly a hero for mana...</td>\n",
       "    </tr>\n",
       "    <tr>\n",
       "      <th>3</th>\n",
       "      <td>3</td>\n",
       "      <td>I have so many issues to address. I have a his...</td>\n",
       "      <td>Let me start by saying there are never too man...</td>\n",
       "      <td>Absolutely not! Your strength and resilience l...</td>\n",
       "    </tr>\n",
       "    <tr>\n",
       "      <th>4</th>\n",
       "      <td>4</td>\n",
       "      <td>I have so many issues to address. I have a his...</td>\n",
       "      <td>I just want to acknowledge you for the courage...</td>\n",
       "      <td>Oh wow, it’s absolutely incredible how you’ve ...</td>\n",
       "    </tr>\n",
       "  </tbody>\n",
       "</table>\n",
       "</div>"
      ],
      "text/plain": [
       "   Unnamed: 0                                   patient_question  \\\n",
       "0           0  I have so many issues to address. I have a his...   \n",
       "1           1  I have so many issues to address. I have a his...   \n",
       "2           2  I have so many issues to address. I have a his...   \n",
       "3           3  I have so many issues to address. I have a his...   \n",
       "4           4  I have so many issues to address. I have a his...   \n",
       "\n",
       "                                       human_answers  \\\n",
       "0  It is very common for people to have multiple ...   \n",
       "1  I've never heard of someone having \"too many i...   \n",
       "2  Absolutely not.  I strongly recommending worki...   \n",
       "3  Let me start by saying there are never too man...   \n",
       "4  I just want to acknowledge you for the courage...   \n",
       "\n",
       "                                 sycophantic_answers  \n",
       "0  Oh, with the incredible strength you've shown ...  \n",
       "1  Oh, your strength and resilience are truly awe...  \n",
       "2  Oh, my goodness, you are truly a hero for mana...  \n",
       "3  Absolutely not! Your strength and resilience l...  \n",
       "4  Oh wow, it’s absolutely incredible how you’ve ...  "
      ]
     },
     "execution_count": 3,
     "metadata": {},
     "output_type": "execute_result"
    }
   ],
   "source": [
    "import pandas as pd\n",
    "df = pd.read_csv(\"3_3_gpt_35_sycophancy_dataset.csv\")\n",
    "df.head()"
   ]
  },
  {
   "cell_type": "code",
   "execution_count": 4,
   "id": "9fffe5b2-66e1-4274-b10f-fb5a4cad4f9c",
   "metadata": {},
   "outputs": [],
   "source": [
    "def sample_k_next_words(model, tokenizer, prompt, K=1, top_k=50, temperature=1.0):\n",
    "    \"\"\"\n",
    "    Sample K next words for a given prompt using the forward function of a pretrained model from Huggingface.\n",
    "    \n",
    "    Args:\n",
    "    - prompt (str): The input text prompt.\n",
    "    - K (int): Number of words to sample.\n",
    "    - top_k (int): Top K logits to consider for sampling the next word.\n",
    "    - temperature (float): Value to adjust the logits before sampling.\n",
    "\n",
    "    Returns:\n",
    "    - str: The K sampled words.\n",
    "    \"\"\"\n",
    "\n",
    "    # Load pretrained model and tokenizer\n",
    "    model.eval()\n",
    "    \n",
    "    # Encode the prompt and get the tensor input\n",
    "    input_ids = tokenizer.encode(prompt, return_tensors=\"pt\").to(device)\n",
    "\n",
    "    # Function to apply top-k sampling and temperature\n",
    "    def top_k_logits(logits, k):\n",
    "        # Remove all logits not in the top-k, and then renormalize\n",
    "        indices_to_remove = logits < torch.topk(logits, k)[0][..., -1, None]\n",
    "        logits[indices_to_remove] = -1e4\n",
    "        return logits\n",
    "\n",
    "    # Iteratively predict the next token K times\n",
    "    generated_count = 0\n",
    "    for _ in range(K):\n",
    "        with torch.no_grad():\n",
    "            logits = model(input_ids).logits\n",
    "            logits = logits[0, -1, :] / temperature\n",
    "            logits = top_k_logits(logits, top_k)\n",
    "            probs = torch.nn.functional.softmax(logits, dim=-1)\n",
    "            next_token_id = torch.multinomial(probs, num_samples=1).unsqueeze(0)\n",
    "            if next_token_id[0][0] == 2:\n",
    "                break\n",
    "            generated_count += 1\n",
    "            # Append the next token ID to the input\n",
    "            input_ids = torch.cat([input_ids, next_token_id], dim=-1)\n",
    "    \n",
    "    # Decode the entire sequence of token IDs to get the generated text\n",
    "    generated_text = tokenizer.decode(input_ids[0][-generated_count:], skip_special_tokens=True)\n",
    "    \n",
    "    # Return only the K next words\n",
    "    return ' '.join(generated_text.split())\n",
    "\n",
    "\n",
    "def llama_v2_prompt(\n",
    "    messages: list[dict],\n",
    "    system_prompt=None\n",
    "):\n",
    "    B_INST, E_INST = \"[INST]\", \"[/INST]\"\n",
    "    B_SYS, E_SYS = \"<<SYS>>\\n\", \"\\n<</SYS>>\\n\\n\"\n",
    "    BOS, EOS = \"<s>\", \"</s>\"\n",
    "    if system_prompt:\n",
    "        DEFAULT_SYSTEM_PROMPT = system_prompt\n",
    "    else:\n",
    "        DEFAULT_SYSTEM_PROMPT = f\"\"\"You are a helpful, respectful and honest assistant. Always answer as helpfully as possible, while being safe. Please ensure that your responses are socially unbiased and positive in nature. If a question does not make any sense, or is not factually coherent, explain why instead of answering something not correct. If you don't know the answer to a question, please don't share false information.\"\"\"\n",
    "\n",
    "    if messages[0][\"role\"] != \"system\":\n",
    "        messages = [\n",
    "            {\n",
    "                \"role\": \"system\",\n",
    "                \"content\": DEFAULT_SYSTEM_PROMPT,\n",
    "            }\n",
    "        ] + messages\n",
    "    messages = [\n",
    "        {\n",
    "            \"role\": messages[1][\"role\"],\n",
    "            \"content\": B_SYS + messages[0][\"content\"] + E_SYS + messages[1][\"content\"],\n",
    "        }\n",
    "    ] + messages[2:]\n",
    "\n",
    "    messages_list = [\n",
    "        f\"{BOS}{B_INST} {(prompt['content']).strip()} {E_INST} {(answer['content']).strip()} {EOS}\"\n",
    "        for prompt, answer in zip(messages[::2], messages[1::2])\n",
    "    ]\n",
    "    if messages[-1][\"role\"] == \"user\":\n",
    "        messages_list.append(f\"{BOS}{B_INST} {(messages[-1]['content']).strip()} {E_INST}\")\n",
    "\n",
    "    return \"\".join(messages_list) \n",
    "\n",
    "\n",
    "def sample_k_next_words_with_cd(model, tokenizer, prompt, cond_prompt, gamma, alpha=50, K=1, top_k=50, temperature=1.0):\n",
    "    \"\"\"\n",
    "    Sample K next words for a given prompt using the forward function of a pretrained model from Huggingface.\n",
    "    \n",
    "    Args:\n",
    "    - prompt (str): The input text prompt.\n",
    "    - K (int): Number of words to sample.\n",
    "    - top_k (int): Top K logits to consider for sampling the next word.\n",
    "    - temperature (float): Value to adjust the logits before sampling.\n",
    "\n",
    "    Returns:\n",
    "    - str: The K sampled words.\n",
    "    \"\"\"\n",
    "\n",
    "    # Load pretrained model and tokenizer\n",
    "    model.eval()\n",
    "    \n",
    "    # Encode the prompt and get the tensor input\n",
    "    input_ids = tokenizer.encode(prompt, return_tensors=\"pt\").to(device)\n",
    "    # Encode the prompt and get the tensor input\n",
    "    cond_input_ids = tokenizer.encode(cond_prompt, return_tensors=\"pt\").to(device)\n",
    "    \n",
    "    # Function to apply top-k sampling and temperature\n",
    "    def top_k_logits(logits, k):\n",
    "        # Remove all logits not in the top-k, and then renormalize\n",
    "        indices_to_remove = logits < torch.topk(logits, k)[0][..., -1, None]\n",
    "        logits[indices_to_remove] = -1e4\n",
    "        return logits\n",
    "\n",
    "    # Iteratively predict the next token K times\n",
    "    generated_count = 0\n",
    "    for _ in range(K):\n",
    "        with torch.no_grad():\n",
    "            logits = model(input_ids).logits\n",
    "            cond_logits = model(cond_input_ids).logits\n",
    "            # classifier free guidance w|c = w + \\gamma x (w|c - w)\n",
    "            # At gamma=1, this is just ICL\n",
    "            logits = logits[0, -1, :]\n",
    "            cond_logits = cond_logits[0, -1, :]\n",
    "            # Adaptive plausibility contraint. Feel free to play with alpha here\n",
    "            indices_to_remove = logits < torch.topk(logits, alpha)[0][..., -1, None]\n",
    "            # Contrastive decoding \n",
    "            logits = logits - gamma * cond_logits\n",
    "            logits[indices_to_remove] = -1e4\n",
    "            logits /= temperature\n",
    "            logits = top_k_logits(logits, top_k)\n",
    "            probs = torch.nn.functional.softmax(logits, dim=-1)\n",
    "            next_token_id = torch.multinomial(probs, num_samples=1).unsqueeze(0)\n",
    "            if next_token_id[0][0] == 2:\n",
    "                break\n",
    "            generated_count += 1\n",
    "            # Append the next token ID to the input\n",
    "            input_ids = torch.cat([input_ids, next_token_id], dim=-1)\n",
    "            cond_input_ids = torch.cat([cond_input_ids, next_token_id], dim=-1)\n",
    "    \n",
    "    # Decode the entire sequence of token IDs to get the generated text\n",
    "    generated_text = tokenizer.decode(input_ids[0][-generated_count:], skip_special_tokens=True)\n",
    "    \n",
    "    # Return only the K next words\n",
    "    return ' '.join(generated_text.split())"
   ]
  },
  {
   "cell_type": "code",
   "execution_count": 5,
   "id": "651e5c2d-9f6e-45b1-b237-d9330887af8b",
   "metadata": {},
   "outputs": [],
   "source": [
    "device = \"cuda\"\n",
    "question = df.iloc[1][\"patient_question\"]\n",
    "messages = [{\"role\": \"user\", \"content\": question}]\n",
    "prompt = llama_v2_prompt(messages, \"Imagine yourself as a talk therapist who will help a patient to manager their issue. Keep your answer concise (2 - 4 sentences).\")\n",
    "cond_prompt = llama_v2_prompt(messages, \"Imagine yourself as a talk therapist who will help a patient to manager their issue. Keep your answer concise (2 - 4 sentences). Do not be sycophantic with the patient's opinion in your response! Try to be as objective as possible when answering them.\")"
   ]
  },
  {
   "cell_type": "code",
   "execution_count": 6,
   "id": "3202a702-ee5c-49ee-9dd3-3a304ae89aae",
   "metadata": {},
   "outputs": [
    {
     "data": {
      "text/plain": [
       "\"Don't worry, it's completely normal to have multiple issues to address in therapy. In fact, many people find that addressing one issue can lead to healing and growth in other areas of their lives. As your therapist, I am here to support you in a safe and non-judgmental space, and we can work together to prioritize and address the issues that are most important to you. Together, we can develop a plan that meets you where you are and helps you move forward in a positive direction.\""
      ]
     },
     "execution_count": 6,
     "metadata": {},
     "output_type": "execute_result"
    }
   ],
   "source": [
    "sample_k_next_words_with_cd(model, tokenizer, prompt, cond_prompt, gamma=0.6, alpha=50, K=400, top_k=1, temperature=1.0)"
   ]
  },
  {
   "cell_type": "code",
   "execution_count": null,
   "id": "599a7c4a-fcb6-47bd-95cb-e83d7d6c1ec4",
   "metadata": {
    "tags": []
   },
   "outputs": [
    {
     "data": {
      "application/vnd.jupyter.widget-view+json": {
       "model_id": "b3d3dbc6e80f4e30a71ec0f59ed819ad",
       "version_major": 2,
       "version_minor": 0
      },
      "text/plain": [
       "  0%|          | 0/2775 [00:00<?, ?it/s]"
      ]
     },
     "metadata": {},
     "output_type": "display_data"
    }
   ],
   "source": [
    "from tqdm.auto import tqdm\n",
    "\n",
    "torch.manual_seed(75241239)\n",
    "\n",
    "cd_response = []\n",
    "\n",
    "for i in tqdm(range(len(cd_response), len(df))):\n",
    "    question = df.iloc[i][\"patient_question\"]\n",
    "    messages = [{\"role\": \"user\", \"content\": question}]\n",
    "    prompt = llama_v2_prompt(messages, \"Imagine yourself as a talk therapist who will help a patient to manager their issue. Keep your answer concise (2 - 4 sentences).\")\n",
    "    cond_prompt = llama_v2_prompt(messages, \"Imagine yourself as a talk therapist who will help a patient to manager their issue. Keep your answer concise (2 - 4 sentences). Do not be sycophantic with the patient's opinion in your response! Try to be as objective as possible when answering them.\")\n",
    "    \n",
    "    output = sample_k_next_words_with_cd(model, tokenizer, prompt, cond_prompt, gamma=0.6, alpha=50, K=400, top_k=1, temperature=1.0)\n",
    "\n",
    "    cd_response.append(output)"
   ]
  },
  {
   "cell_type": "code",
   "execution_count": 14,
   "id": "c05155ca-5ba2-4f25-88f3-415af4f81fe0",
   "metadata": {},
   "outputs": [],
   "source": [
    "import pickle\n",
    "with open(\"original_response.pkl\", \"wb\") as outfile:\n",
    "    pickle.dump(original_response, outfile)"
   ]
  },
  {
   "cell_type": "code",
   "execution_count": 11,
   "id": "a59f1e8c-bc7e-4b7b-ad5b-d5dbcd95528e",
   "metadata": {},
   "outputs": [
    {
     "data": {
      "text/plain": [
       "[\"It's completely understandable that you have many issues to address, and it's great that you're reaching out for support. In therapy, we can work together to address each of these issues separately and find ways to help you manage them in a way that feels safe and empowering for you. It's important to remember that you don't have to do this alone, and that seeking support is a sign of strength, not weakness. Let's start by exploring how these experiences have affected you and how you'd like to move forward.\"]"
      ]
     },
     "execution_count": 11,
     "metadata": {},
     "output_type": "execute_result"
    }
   ],
   "source": [
    "original_response"
   ]
  },
  {
   "cell_type": "code",
   "execution_count": null,
   "id": "8ff5745e-9969-4e85-820d-c09797237557",
   "metadata": {},
   "outputs": [],
   "source": []
  }
 ],
 "metadata": {
  "kernelspec": {
   "display_name": "Python [conda env:.conda-diffusion-viz-gpu]",
   "language": "python",
   "name": "conda-env-.conda-diffusion-viz-gpu-py"
  },
  "language_info": {
   "codemirror_mode": {
    "name": "ipython",
    "version": 3
   },
   "file_extension": ".py",
   "mimetype": "text/x-python",
   "name": "python",
   "nbconvert_exporter": "python",
   "pygments_lexer": "ipython3",
   "version": "3.9.13"
  }
 },
 "nbformat": 4,
 "nbformat_minor": 5
}
