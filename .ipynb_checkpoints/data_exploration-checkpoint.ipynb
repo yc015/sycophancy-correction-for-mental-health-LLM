{
 "cells": [
  {
   "cell_type": "code",
   "execution_count": 2,
   "metadata": {},
   "outputs": [
    {
     "name": "stderr",
     "output_type": "stream",
     "text": [
      "/Users/catherineyeh/.local/share/virtualenvs/sycophancy-correction-for-mental-health-LL-eoDGVW49/lib/python3.9/site-packages/tqdm/auto.py:21: TqdmWarning: IProgress not found. Please update jupyter and ipywidgets. See https://ipywidgets.readthedocs.io/en/stable/user_install.html\n",
      "  from .autonotebook import tqdm as notebook_tqdm\n",
      "Downloading readme: 100%|██████████| 4.92k/4.92k [00:00<00:00, 12.7MB/s]\n",
      "Repo card metadata block was not found. Setting CardData to empty.\n",
      "Downloading data: 100%|██████████| 4.13M/4.13M [00:00<00:00, 8.47MB/s]\n",
      "Generating train split: 2775 examples [00:00, 43530.69 examples/s]\n"
     ]
    }
   ],
   "source": [
    "# import dataset from huggingface\n",
    "from datasets import load_dataset\n",
    "\n",
    "dataset = load_dataset(\"nbertagnolli/counsel-chat\")"
   ]
  },
  {
   "cell_type": "code",
   "execution_count": 4,
   "metadata": {},
   "outputs": [
    {
     "name": "stdout",
     "output_type": "stream",
     "text": [
      "{'train': ['questionID', 'questionTitle', 'questionText', 'questionLink', 'topic', 'therapistInfo', 'therapistURL', 'answerText', 'upvotes', 'views']}\n",
      "{'train': 2775}\n"
     ]
    }
   ],
   "source": [
    "# print column names \n",
    "print(dataset.column_names)\n",
    "\n",
    "# print number of rows\n",
    "print(dataset.num_rows)"
   ]
  },
  {
   "cell_type": "code",
   "execution_count": 12,
   "metadata": {},
   "outputs": [
    {
     "name": "stdout",
     "output_type": "stream",
     "text": [
      "diagnosis\n",
      "workplace-relationships\n",
      "anger-management\n",
      "eating-disorders\n",
      "stress\n",
      "children-adolescents\n",
      "military-issues\n",
      "legal-regulatory\n",
      "self-esteem\n",
      "lgbtq\n",
      "counseling-fundamentals\n",
      "addiction\n",
      "professional-ethics\n",
      "marriage\n",
      "depression\n",
      "grief-and-loss\n",
      "social-relationships\n",
      "parenting\n",
      "anxiety\n",
      "human-sexuality\n",
      "behavioral-change\n",
      "self-harm\n",
      "relationships\n",
      "spirituality\n",
      "family-conflict\n",
      "sleep-improvement\n",
      "trauma\n",
      "intimacy\n",
      "domestic-violence\n",
      "relationship-dissolution\n",
      "substance-abuse\n",
      "31\n"
     ]
    }
   ],
   "source": [
    "# print unique topics in train split\n",
    "unique_topics = set(dataset['train']['topic'])\n",
    "\n",
    "# print unique topics, one per line\n",
    "for topic in unique_topics:\n",
    "    print(topic)\n",
    "\n",
    "# print number of unique topics\n",
    "print(len(unique_topics))"
   ]
  },
  {
   "cell_type": "markdown",
   "metadata": {},
   "source": []
  },
  {
   "cell_type": "code",
   "execution_count": 13,
   "metadata": {},
   "outputs": [
    {
     "name": "stdout",
     "output_type": "stream",
     "text": [
      "433\n"
     ]
    }
   ],
   "source": [
    "# print unique therapists in train split\n",
    "unique_therapists = set(dataset['train']['therapistURL'])\n",
    "\n",
    "# print number of unique therapists\n",
    "print(len(unique_therapists))"
   ]
  },
  {
   "cell_type": "code",
   "execution_count": 24,
   "metadata": {},
   "outputs": [
    {
     "name": "stderr",
     "output_type": "stream",
     "text": [
      "Filter:   0%|          | 0/2775 [00:00<?, ? examples/s]"
     ]
    },
    {
     "name": "stderr",
     "output_type": "stream",
     "text": [
      "Filter: 100%|██████████| 2775/2775 [00:00<00:00, 94602.98 examples/s]"
     ]
    },
    {
     "name": "stdout",
     "output_type": "stream",
     "text": [
      "16\n",
      "Can a therapist have a client admitted to an eating disorder treatment center if the client does not want to go?\n",
      "None\n",
      "Typically, a therapist cannot force a client to receive any treatment they do not want.  In the end, it is the clients who get to decide what type of treatment they want.If a therapist believes that their client is in imminent danger of harm however, the therapist might have an obligation to take actions to protect their client.  In such a case, the therapist would need to discuss the options with the client, and come up with a plan to best protect the client.In a situiaon like this, it would probably be a good idea to talk to the therapist about the possilbe positvies and negatives of the treatmetn center.  A good therpist will be happy to have that conversation with you and allow you to make the final decisions about your own treatment.\n"
     ]
    },
    {
     "name": "stderr",
     "output_type": "stream",
     "text": [
      "\n"
     ]
    }
   ],
   "source": [
    "# print examples of eating-disorder topic\n",
    "# first filter the dataset to only include rows with the topic \"eating-disorder\"\n",
    "eating_disorder = dataset['train'].filter(lambda example: example['topic'] == 'eating-disorders')\n",
    "\n",
    "print(len(eating_disorder))\n",
    "\n",
    "# print the first example\n",
    "print(eating_disorder[0]['questionTitle'])\n",
    "print(eating_disorder[0]['questionText'])\n",
    "print(eating_disorder[0]['answerText'])"
   ]
  },
  {
   "cell_type": "code",
   "execution_count": 25,
   "metadata": {},
   "outputs": [
    {
     "name": "stdout",
     "output_type": "stream",
     "text": [
      "How do I see a therapist without having healthcare?\n",
      "I need to speak to someone about sexual addiction and binge eating immediately.\n",
      "There are plenty of online providers within the mental health field that would me more than happy to speak with you immediately.  Many of them provide treatment on a sliding scale fee.  I would google online mental health treatment providers and that should lead you to a list of providers that can help you.\n"
     ]
    }
   ],
   "source": [
    "# print another example\n",
    "print(eating_disorder[5]['questionTitle'])\n",
    "print(eating_disorder[5]['questionText'])\n",
    "print(eating_disorder[5]['answerText'])"
   ]
  },
  {
   "cell_type": "code",
   "execution_count": 26,
   "metadata": {},
   "outputs": [
    {
     "name": "stdout",
     "output_type": "stream",
     "text": [
      "21\n",
      "How do I get my partner to stop verbally abusing me?\n",
      "Every time my partner gets angry for anything, she takes it out on me. Nothing I do is right, and once she's mad, she calls me all kinds of names and is verbally abusive. She says it isn’t abuse, it’s just angry verbal bashing, and that it’s different. It gets worse each time. The names are very vulgar now.\n",
      "I’m glad that you are reaching out for help. What you are going though sounds overwhelming and  exhausting. Here is a link that talks about the signs of an abuse relationship if you are questioning  whether or not you are experiencing an abusive relationship https://www.helpguide.org/articles/abuse/domestic-violence-and-abuse.htmThis maybe a lot of information to take in so if you feel overwhelmed I would encourage you to talk to a therapist.  Also every state has a domestic non-profit that can assist you with support or resources. If you are struggling to find one in your area I can help you. They can help you safety plan and give additional information that might be of assistance.  In abusive relationships, unfortunately there is nothing you can do to change your partners behavior. It is up to her to make that decision.  A lot of time in abusive relationships  asserting  your boundaries can put you at risk for more abuse. I would encourage you to use your gut in this situation because you know your relationship better then anyone else.  The best thing for you to do is to keep yourself emotionally and physically safe. I would encourage against couples counseling because it can also become unsafe in an abusive relationship. You are making a big step in looking for help.\n"
     ]
    }
   ],
   "source": [
    "# print examples of domestic-violence topic\n",
    "# first filter the dataset to only include rows with the topic \"domestic-violence\"\n",
    "domestic_violence = dataset['train'].filter(lambda example: example['topic'] == 'domestic-violence')\n",
    "\n",
    "print(len(domestic_violence))\n",
    "\n",
    "# print the first example\n",
    "print(domestic_violence[0]['questionTitle'])\n",
    "print(domestic_violence[0]['questionText'])\n",
    "print(domestic_violence[0]['answerText'])"
   ]
  }
 ],
 "metadata": {
  "kernelspec": {
   "display_name": "sycophancy-correction-for-mental-health-LL-eoDGVW49",
   "language": "python",
   "name": "python3"
  },
  "language_info": {
   "codemirror_mode": {
    "name": "ipython",
    "version": 3
   },
   "file_extension": ".py",
   "mimetype": "text/x-python",
   "name": "python",
   "nbconvert_exporter": "python",
   "pygments_lexer": "ipython3",
   "version": "3.9.13"
  }
 },
 "nbformat": 4,
 "nbformat_minor": 2
}
